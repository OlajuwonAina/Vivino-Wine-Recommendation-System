{
 "cells": [
  {
   "cell_type": "markdown",
   "id": "25092dfb",
   "metadata": {},
   "source": [
    "## Importing Needed modules/libraries to be used for our analysis"
   ]
  },
  {
   "cell_type": "code",
   "execution_count": 1,
   "id": "1f92eba5",
   "metadata": {},
   "outputs": [
    {
     "name": "stdout",
     "output_type": "stream",
     "text": [
      "Collecting seaborn\n",
      "  Downloading seaborn-0.11.2-py3-none-any.whl (292 kB)\n",
      "     |████████████████████████████████| 292 kB 16.8 MB/s            \n",
      "\u001b[?25hRequirement already satisfied: matplotlib>=2.2 in /home/docode/.pyenv/versions/3.6.7/lib/python3.6/site-packages (from seaborn) (3.3.4)\n",
      "Requirement already satisfied: scipy>=1.0 in /home/docode/.pyenv/versions/3.6.7/lib/python3.6/site-packages (from seaborn) (1.5.4)\n",
      "Requirement already satisfied: pandas>=0.23 in /home/docode/.pyenv/versions/3.6.7/lib/python3.6/site-packages (from seaborn) (1.1.5)\n",
      "Requirement already satisfied: numpy>=1.15 in /home/docode/.pyenv/versions/3.6.7/lib/python3.6/site-packages (from seaborn) (1.19.5)\n",
      "Requirement already satisfied: python-dateutil>=2.1 in /home/docode/.pyenv/versions/3.6.7/lib/python3.6/site-packages (from matplotlib>=2.2->seaborn) (2.8.2)\n",
      "Requirement already satisfied: pillow>=6.2.0 in /home/docode/.pyenv/versions/3.6.7/lib/python3.6/site-packages (from matplotlib>=2.2->seaborn) (8.4.0)\n",
      "Requirement already satisfied: pyparsing!=2.0.4,!=2.1.2,!=2.1.6,>=2.0.3 in /home/docode/.pyenv/versions/3.6.7/lib/python3.6/site-packages (from matplotlib>=2.2->seaborn) (3.0.7)\n",
      "Requirement already satisfied: kiwisolver>=1.0.1 in /home/docode/.pyenv/versions/3.6.7/lib/python3.6/site-packages (from matplotlib>=2.2->seaborn) (1.3.1)\n",
      "Requirement already satisfied: cycler>=0.10 in /home/docode/.pyenv/versions/3.6.7/lib/python3.6/site-packages (from matplotlib>=2.2->seaborn) (0.11.0)\n",
      "Requirement already satisfied: pytz>=2017.2 in /home/docode/.pyenv/versions/3.6.7/lib/python3.6/site-packages (from pandas>=0.23->seaborn) (2022.5)\n",
      "Requirement already satisfied: six>=1.5 in /home/docode/.pyenv/versions/3.6.7/lib/python3.6/site-packages (from python-dateutil>=2.1->matplotlib>=2.2->seaborn) (1.16.0)\n",
      "Installing collected packages: seaborn\n",
      "Successfully installed seaborn-0.11.2\n",
      "Collecting plotly\n",
      "  Downloading plotly-5.17.0-py2.py3-none-any.whl (15.6 MB)\n",
      "     |████████████████████████████████| 15.6 MB 133 kB/s             \n",
      "\u001b[?25hCollecting tenacity>=6.2.0\n",
      "  Downloading tenacity-8.2.2-py3-none-any.whl (24 kB)\n",
      "Requirement already satisfied: packaging in /home/docode/.pyenv/versions/3.6.7/lib/python3.6/site-packages (from plotly) (21.3)\n",
      "Requirement already satisfied: pyparsing!=3.0.5,>=2.0.2 in /home/docode/.pyenv/versions/3.6.7/lib/python3.6/site-packages (from packaging->plotly) (3.0.7)\n",
      "Installing collected packages: tenacity, plotly\n",
      "Successfully installed plotly-5.17.0 tenacity-8.2.2\n",
      "Collecting scikit-learn\n",
      "  Downloading scikit_learn-0.24.2-cp36-cp36m-manylinux2010_x86_64.whl (22.2 MB)\n",
      "     |████████████████████████████████| 22.2 MB 2.0 MB/s             \n",
      "\u001b[?25hCollecting threadpoolctl>=2.0.0\n",
      "  Downloading threadpoolctl-3.1.0-py3-none-any.whl (14 kB)\n",
      "Collecting joblib>=0.11\n",
      "  Downloading joblib-1.1.1-py2.py3-none-any.whl (309 kB)\n",
      "     |████████████████████████████████| 309 kB 38.9 MB/s            \n",
      "\u001b[?25hRequirement already satisfied: scipy>=0.19.1 in /home/docode/.pyenv/versions/3.6.7/lib/python3.6/site-packages (from scikit-learn) (1.5.4)\n",
      "Requirement already satisfied: numpy>=1.13.3 in /home/docode/.pyenv/versions/3.6.7/lib/python3.6/site-packages (from scikit-learn) (1.19.5)\n",
      "Installing collected packages: threadpoolctl, joblib, scikit-learn\n",
      "Successfully installed joblib-1.1.1 scikit-learn-0.24.2 threadpoolctl-3.1.0\n"
     ]
    }
   ],
   "source": [
    "import pandas as pd\n",
    "!pip install seaborn\n",
    "import seaborn as sns\n",
    "import numpy as np\n",
    "import matplotlib.pyplot as plt\n",
    "!pip install plotly\n",
    "import plotly.express as px\n",
    "import plotly.graph_objects as go\n",
    "import json\n",
    "\n",
    "!pip install scikit-learn\n",
    "import sklearn\n",
    "from sklearn.neighbors import NearestNeighbors\n",
    "from sklearn.metrics.pairwise import cosine_similarity\n",
    "from sklearn.preprocessing import StandardScaler"
   ]
  },
  {
   "cell_type": "markdown",
   "id": "1d40c0e5",
   "metadata": {},
   "source": [
    "## Loading our Vivino Dataset for analysis"
   ]
  },
  {
   "cell_type": "code",
   "execution_count": 2,
   "id": "06da8aac",
   "metadata": {},
   "outputs": [
    {
     "data": {
      "text/html": [
       "<div>\n",
       "<style scoped>\n",
       "    .dataframe tbody tr th:only-of-type {\n",
       "        vertical-align: middle;\n",
       "    }\n",
       "\n",
       "    .dataframe tbody tr th {\n",
       "        vertical-align: top;\n",
       "    }\n",
       "\n",
       "    .dataframe thead th {\n",
       "        text-align: right;\n",
       "    }\n",
       "</style>\n",
       "<table border=\"1\" class=\"dataframe\">\n",
       "  <thead>\n",
       "    <tr style=\"text-align: right;\">\n",
       "      <th></th>\n",
       "      <th>Winery</th>\n",
       "      <th>Name</th>\n",
       "      <th>Vintage</th>\n",
       "      <th>Region</th>\n",
       "      <th>Country</th>\n",
       "      <th>Rating</th>\n",
       "      <th>Number of Ratings</th>\n",
       "      <th>Wine Type</th>\n",
       "      <th>Price</th>\n",
       "    </tr>\n",
       "  </thead>\n",
       "  <tbody>\n",
       "    <tr>\n",
       "      <th>0</th>\n",
       "      <td>Scarecrow</td>\n",
       "      <td>M. Etain 2018</td>\n",
       "      <td>2018.0</td>\n",
       "      <td>Rutherford</td>\n",
       "      <td>United States</td>\n",
       "      <td>4.8</td>\n",
       "      <td>223</td>\n",
       "      <td>Red</td>\n",
       "      <td>349.99</td>\n",
       "    </tr>\n",
       "    <tr>\n",
       "      <th>1</th>\n",
       "      <td>Joseph Phelps Vineyards</td>\n",
       "      <td>Backus Vineyard Cabernet Sauvignon 2013</td>\n",
       "      <td>2013.0</td>\n",
       "      <td>Oakville</td>\n",
       "      <td>United States</td>\n",
       "      <td>4.8</td>\n",
       "      <td>173</td>\n",
       "      <td>Red</td>\n",
       "      <td>495.00</td>\n",
       "    </tr>\n",
       "    <tr>\n",
       "      <th>2</th>\n",
       "      <td>Bevan Cellars</td>\n",
       "      <td>Sugarloaf Mountain Vineyard Proprietary Red 2016</td>\n",
       "      <td>2016.0</td>\n",
       "      <td>Napa Valley</td>\n",
       "      <td>United States</td>\n",
       "      <td>4.8</td>\n",
       "      <td>58</td>\n",
       "      <td>Red</td>\n",
       "      <td>340.00</td>\n",
       "    </tr>\n",
       "    <tr>\n",
       "      <th>3</th>\n",
       "      <td>Quilceda Creek</td>\n",
       "      <td>Cabernet Sauvignon 2019</td>\n",
       "      <td>2019.0</td>\n",
       "      <td>Columbia Valley</td>\n",
       "      <td>United States</td>\n",
       "      <td>4.8</td>\n",
       "      <td>54</td>\n",
       "      <td>Red</td>\n",
       "      <td>244.99</td>\n",
       "    </tr>\n",
       "    <tr>\n",
       "      <th>4</th>\n",
       "      <td>Paul Hobbs</td>\n",
       "      <td>Beckstoffer To Kalon Vineyard Cabernet Sauvign...</td>\n",
       "      <td>2017.0</td>\n",
       "      <td>Oakville</td>\n",
       "      <td>United States</td>\n",
       "      <td>4.8</td>\n",
       "      <td>46</td>\n",
       "      <td>Red</td>\n",
       "      <td>499.99</td>\n",
       "    </tr>\n",
       "    <tr>\n",
       "      <th>5</th>\n",
       "      <td>Realm</td>\n",
       "      <td>Houyi Vineyard Red 2015</td>\n",
       "      <td>2015.0</td>\n",
       "      <td>St. Helena</td>\n",
       "      <td>United States</td>\n",
       "      <td>4.8</td>\n",
       "      <td>40</td>\n",
       "      <td>Red</td>\n",
       "      <td>369.00</td>\n",
       "    </tr>\n",
       "    <tr>\n",
       "      <th>6</th>\n",
       "      <td>Realm</td>\n",
       "      <td>Cabernet Sauvignon Beckstoffer To Kalon Vineya...</td>\n",
       "      <td>2017.0</td>\n",
       "      <td>Napa Valley</td>\n",
       "      <td>United States</td>\n",
       "      <td>4.8</td>\n",
       "      <td>40</td>\n",
       "      <td>Red</td>\n",
       "      <td>499.00</td>\n",
       "    </tr>\n",
       "    <tr>\n",
       "      <th>7</th>\n",
       "      <td>Realm</td>\n",
       "      <td>Cabernet Sauvignon Beckstoffer To Kalon Vineya...</td>\n",
       "      <td>2019.0</td>\n",
       "      <td>Napa Valley</td>\n",
       "      <td>United States</td>\n",
       "      <td>4.8</td>\n",
       "      <td>35</td>\n",
       "      <td>Red</td>\n",
       "      <td>429.99</td>\n",
       "    </tr>\n",
       "    <tr>\n",
       "      <th>8</th>\n",
       "      <td>Realm</td>\n",
       "      <td>Houyi Vineyard Red 2016</td>\n",
       "      <td>2016.0</td>\n",
       "      <td>St. Helena</td>\n",
       "      <td>United States</td>\n",
       "      <td>4.8</td>\n",
       "      <td>33</td>\n",
       "      <td>Red</td>\n",
       "      <td>399.00</td>\n",
       "    </tr>\n",
       "    <tr>\n",
       "      <th>9</th>\n",
       "      <td>Lail Vineyards</td>\n",
       "      <td>J. Daniel Cuvée Cabernet Sauvignon 2019</td>\n",
       "      <td>2019.0</td>\n",
       "      <td>Napa Valley</td>\n",
       "      <td>United States</td>\n",
       "      <td>4.8</td>\n",
       "      <td>33</td>\n",
       "      <td>Red</td>\n",
       "      <td>299.99</td>\n",
       "    </tr>\n",
       "  </tbody>\n",
       "</table>\n",
       "</div>"
      ],
      "text/plain": [
       "                    Winery                                               Name  \\\n",
       "0                Scarecrow                                      M. Etain 2018   \n",
       "1  Joseph Phelps Vineyards            Backus Vineyard Cabernet Sauvignon 2013   \n",
       "2            Bevan Cellars   Sugarloaf Mountain Vineyard Proprietary Red 2016   \n",
       "3           Quilceda Creek                            Cabernet Sauvignon 2019   \n",
       "4               Paul Hobbs  Beckstoffer To Kalon Vineyard Cabernet Sauvign...   \n",
       "5                    Realm                            Houyi Vineyard Red 2015   \n",
       "6                    Realm  Cabernet Sauvignon Beckstoffer To Kalon Vineya...   \n",
       "7                    Realm  Cabernet Sauvignon Beckstoffer To Kalon Vineya...   \n",
       "8                    Realm                            Houyi Vineyard Red 2016   \n",
       "9           Lail Vineyards            J. Daniel Cuvée Cabernet Sauvignon 2019   \n",
       "\n",
       "   Vintage           Region         Country  Rating  Number of Ratings  \\\n",
       "0   2018.0       Rutherford   United States     4.8                223   \n",
       "1   2013.0         Oakville   United States     4.8                173   \n",
       "2   2016.0      Napa Valley   United States     4.8                 58   \n",
       "3   2019.0  Columbia Valley   United States     4.8                 54   \n",
       "4   2017.0         Oakville   United States     4.8                 46   \n",
       "5   2015.0       St. Helena   United States     4.8                 40   \n",
       "6   2017.0      Napa Valley   United States     4.8                 40   \n",
       "7   2019.0      Napa Valley   United States     4.8                 35   \n",
       "8   2016.0       St. Helena   United States     4.8                 33   \n",
       "9   2019.0      Napa Valley   United States     4.8                 33   \n",
       "\n",
       "  Wine Type   Price  \n",
       "0       Red  349.99  \n",
       "1       Red  495.00  \n",
       "2       Red  340.00  \n",
       "3       Red  244.99  \n",
       "4       Red  499.99  \n",
       "5       Red  369.00  \n",
       "6       Red  499.00  \n",
       "7       Red  429.99  \n",
       "8       Red  399.00  \n",
       "9       Red  299.99  "
      ]
     },
     "execution_count": 2,
     "metadata": {},
     "output_type": "execute_result"
    }
   ],
   "source": [
    "#load the data  (in CSV) and convert to pandas DataFrame\n",
    "vivino_data = pd.read_csv(\"final_vivino_wines_dataset.csv\")\n",
    "\n",
    "#print the first 10 rows of the DataFrame\n",
    "vivino_data.head(10)"
   ]
  },
  {
   "cell_type": "markdown",
   "id": "806718c2",
   "metadata": {},
   "source": [
    "## Data Cleaning\n",
    "\n",
    "We will examine the data and clean to ensure the data is very well formatted for analysis."
   ]
  },
  {
   "cell_type": "code",
   "execution_count": 3,
   "id": "6825b6b9",
   "metadata": {},
   "outputs": [
    {
     "name": "stdout",
     "output_type": "stream",
     "text": [
      "<class 'pandas.core.frame.DataFrame'>\n",
      "RangeIndex: 2219 entries, 0 to 2218\n",
      "Data columns (total 9 columns):\n",
      " #   Column             Non-Null Count  Dtype  \n",
      "---  ------             --------------  -----  \n",
      " 0   Winery             2219 non-null   object \n",
      " 1   Name               2219 non-null   object \n",
      " 2   Vintage            1755 non-null   float64\n",
      " 3   Region             2217 non-null   object \n",
      " 4   Country            2217 non-null   object \n",
      " 5   Rating             2219 non-null   float64\n",
      " 6   Number of Ratings  2219 non-null   int64  \n",
      " 7   Wine Type          2219 non-null   object \n",
      " 8   Price              2219 non-null   float64\n",
      "dtypes: float64(3), int64(1), object(5)\n",
      "memory usage: 156.1+ KB\n"
     ]
    }
   ],
   "source": [
    "#First, we will prints information about our DataFrame including the index dtype and columns, non-null values and memory usage. \n",
    "# this allows us get detailed information about our DataFrame and what best to do\n",
    "\n",
    "vivino_data.info( )"
   ]
  },
  {
   "cell_type": "code",
   "execution_count": 4,
   "id": "3ec0a950",
   "metadata": {},
   "outputs": [
    {
     "data": {
      "text/plain": [
       "Winery                 0\n",
       "Name                   0\n",
       "Vintage              464\n",
       "Region                 2\n",
       "Country                2\n",
       "Rating                 0\n",
       "Number of Ratings      0\n",
       "Wine Type              0\n",
       "Price                  0\n",
       "dtype: int64"
      ]
     },
     "execution_count": 4,
     "metadata": {},
     "output_type": "execute_result"
    }
   ],
   "source": [
    "## Check & count NaN values in our DataFrame\n",
    "\n",
    "vivino_data.isna().sum()"
   ]
  },
  {
   "cell_type": "code",
   "execution_count": 5,
   "id": "baaba467",
   "metadata": {},
   "outputs": [
    {
     "data": {
      "text/plain": [
       "468"
      ]
     },
     "execution_count": 5,
     "metadata": {},
     "output_type": "execute_result"
    }
   ],
   "source": [
    "vivino_data.isna().sum().sum()"
   ]
  },
  {
   "cell_type": "code",
   "execution_count": 6,
   "id": "a26f5cc9",
   "metadata": {},
   "outputs": [],
   "source": [
    "# We will be removing missing or NaN (Not-a-Number) values in the Country & Number of Ratings columns\n",
    "vivino_data=vivino_data[~(vivino_data['Country'].isna())]\n",
    "data=vivino_data[vivino_data['Number of Ratings']>= 100].reset_index(drop=True)"
   ]
  },
  {
   "cell_type": "code",
   "execution_count": 7,
   "id": "d5d4869e",
   "metadata": {},
   "outputs": [
    {
     "data": {
      "text/plain": [
       "Winery                 0\n",
       "Name                   0\n",
       "Vintage              462\n",
       "Region                 0\n",
       "Country                0\n",
       "Rating                 0\n",
       "Number of Ratings      0\n",
       "Wine Type              0\n",
       "Price                  0\n",
       "dtype: int64"
      ]
     },
     "execution_count": 7,
     "metadata": {},
     "output_type": "execute_result"
    }
   ],
   "source": [
    "# We check again for NaN values in our DataFrame\n",
    "\n",
    "vivino_data.isna().sum()"
   ]
  },
  {
   "cell_type": "code",
   "execution_count": 8,
   "id": "33ff1790",
   "metadata": {},
   "outputs": [
    {
     "data": {
      "text/html": [
       "<div>\n",
       "<style scoped>\n",
       "    .dataframe tbody tr th:only-of-type {\n",
       "        vertical-align: middle;\n",
       "    }\n",
       "\n",
       "    .dataframe tbody tr th {\n",
       "        vertical-align: top;\n",
       "    }\n",
       "\n",
       "    .dataframe thead th {\n",
       "        text-align: right;\n",
       "    }\n",
       "</style>\n",
       "<table border=\"1\" class=\"dataframe\">\n",
       "  <thead>\n",
       "    <tr style=\"text-align: right;\">\n",
       "      <th></th>\n",
       "      <th>Winery</th>\n",
       "      <th>Name</th>\n",
       "      <th>Vintage</th>\n",
       "      <th>Region</th>\n",
       "      <th>Country</th>\n",
       "      <th>Rating</th>\n",
       "      <th>Number of Ratings</th>\n",
       "      <th>Wine Type</th>\n",
       "      <th>Price</th>\n",
       "    </tr>\n",
       "  </thead>\n",
       "  <tbody>\n",
       "    <tr>\n",
       "      <th>0</th>\n",
       "      <td>Scarecrow</td>\n",
       "      <td>M. Etain 2018</td>\n",
       "      <td>2018.0</td>\n",
       "      <td>Rutherford</td>\n",
       "      <td>United States</td>\n",
       "      <td>4.8</td>\n",
       "      <td>223</td>\n",
       "      <td>Red</td>\n",
       "      <td>349.99</td>\n",
       "    </tr>\n",
       "    <tr>\n",
       "      <th>1</th>\n",
       "      <td>Joseph Phelps Vineyards</td>\n",
       "      <td>Backus Vineyard Cabernet Sauvignon 2013</td>\n",
       "      <td>2013.0</td>\n",
       "      <td>Oakville</td>\n",
       "      <td>United States</td>\n",
       "      <td>4.8</td>\n",
       "      <td>173</td>\n",
       "      <td>Red</td>\n",
       "      <td>495.00</td>\n",
       "    </tr>\n",
       "    <tr>\n",
       "      <th>2</th>\n",
       "      <td>Bevan Cellars</td>\n",
       "      <td>Sugarloaf Mountain Vineyard Proprietary Red 2016</td>\n",
       "      <td>2016.0</td>\n",
       "      <td>Napa Valley</td>\n",
       "      <td>United States</td>\n",
       "      <td>4.8</td>\n",
       "      <td>58</td>\n",
       "      <td>Red</td>\n",
       "      <td>340.00</td>\n",
       "    </tr>\n",
       "    <tr>\n",
       "      <th>3</th>\n",
       "      <td>Quilceda Creek</td>\n",
       "      <td>Cabernet Sauvignon 2019</td>\n",
       "      <td>2019.0</td>\n",
       "      <td>Columbia Valley</td>\n",
       "      <td>United States</td>\n",
       "      <td>4.8</td>\n",
       "      <td>54</td>\n",
       "      <td>Red</td>\n",
       "      <td>244.99</td>\n",
       "    </tr>\n",
       "    <tr>\n",
       "      <th>4</th>\n",
       "      <td>Paul Hobbs</td>\n",
       "      <td>Beckstoffer To Kalon Vineyard Cabernet Sauvign...</td>\n",
       "      <td>2017.0</td>\n",
       "      <td>Oakville</td>\n",
       "      <td>United States</td>\n",
       "      <td>4.8</td>\n",
       "      <td>46</td>\n",
       "      <td>Red</td>\n",
       "      <td>499.99</td>\n",
       "    </tr>\n",
       "  </tbody>\n",
       "</table>\n",
       "</div>"
      ],
      "text/plain": [
       "                    Winery                                               Name  \\\n",
       "0                Scarecrow                                      M. Etain 2018   \n",
       "1  Joseph Phelps Vineyards            Backus Vineyard Cabernet Sauvignon 2013   \n",
       "2            Bevan Cellars   Sugarloaf Mountain Vineyard Proprietary Red 2016   \n",
       "3           Quilceda Creek                            Cabernet Sauvignon 2019   \n",
       "4               Paul Hobbs  Beckstoffer To Kalon Vineyard Cabernet Sauvign...   \n",
       "\n",
       "   Vintage           Region         Country  Rating  Number of Ratings  \\\n",
       "0   2018.0       Rutherford   United States     4.8                223   \n",
       "1   2013.0         Oakville   United States     4.8                173   \n",
       "2   2016.0      Napa Valley   United States     4.8                 58   \n",
       "3   2019.0  Columbia Valley   United States     4.8                 54   \n",
       "4   2017.0         Oakville   United States     4.8                 46   \n",
       "\n",
       "  Wine Type   Price  \n",
       "0       Red  349.99  \n",
       "1       Red  495.00  \n",
       "2       Red  340.00  \n",
       "3       Red  244.99  \n",
       "4       Red  499.99  "
      ]
     },
     "execution_count": 8,
     "metadata": {},
     "output_type": "execute_result"
    }
   ],
   "source": [
    "vivino_data.head()"
   ]
  },
  {
   "cell_type": "code",
   "execution_count": 9,
   "id": "d21b4dc7",
   "metadata": {},
   "outputs": [
    {
     "data": {
      "text/plain": [
       "Winery                 0\n",
       "Name                   0\n",
       "Vintage              462\n",
       "Region                 0\n",
       "Country                0\n",
       "Rating                 0\n",
       "Number of Ratings      0\n",
       "Wine Type              0\n",
       "Price                  0\n",
       "dtype: int64"
      ]
     },
     "execution_count": 9,
     "metadata": {},
     "output_type": "execute_result"
    }
   ],
   "source": [
    "# We check again for NaN values in our DataFrame\n",
    "\n",
    "vivino_data.isna().sum()"
   ]
  },
  {
   "cell_type": "markdown",
   "id": "2348944c",
   "metadata": {},
   "source": [
    "## Data Exploration\n",
    "\n",
    "This involves analyzing and summarizing Our DataFrame to gain insights, identify patterns, detect anomalies."
   ]
  },
  {
   "cell_type": "markdown",
   "id": "0feaa7cc",
   "metadata": {},
   "source": [
    "### Histogram\n",
    "We will use histogram to plot visualizations for our DataFrame for more closer look and study"
   ]
  },
  {
   "cell_type": "code",
   "execution_count": 10,
   "id": "49665325",
   "metadata": {},
   "outputs": [],
   "source": [
    "def sub_plots(row, column):\n",
    "    rows=[]\n",
    "    cols=[]\n",
    "    for i in range(row):\n",
    "        for j in range(column):\n",
    "            rows.append(i)\n",
    "            cols.append(j)\n",
    "    return rows, cols"
   ]
  },
  {
   "cell_type": "code",
   "execution_count": 11,
   "id": "f741144c",
   "metadata": {},
   "outputs": [
    {
     "data": {
      "image/png": "[encoded data removed]",
      "text/plain": [
       "<Figure size 576x576 with 4 Axes>"
      ]
     },
     "metadata": {},
     "output_type": "display_data"
    }
   ],
   "source": [
    "def plot_histograms(dataframe):\n",
    "    sns.set_style(\"darkgrid\")\n",
    "    numeric_data = dataframe.select_dtypes(include=np.number)\n",
    "    column_names = numeric_data.columns\n",
    "    fig, axes = plt.subplots(2, 2, figsize=(8, 8))\n",
    "    rows, cols = sub_plots(2, 2)\n",
    "\n",
    "    idx = 0\n",
    "    for col in column_names:\n",
    "        plot = sns.histplot(numeric_data, x=col, bins=10, kde=True, ax=axes[rows[idx], cols[idx]])\n",
    "        idx += 1\n",
    "\n",
    "    fig.subplots_adjust(top=0.95)\n",
    "    fig.suptitle(\"Numerical Columns\", fontsize=20)\n",
    "\n",
    "    plt.show()\n",
    "\n",
    "plot_histograms(vivino_data)"
   ]
  },
  {
   "cell_type": "markdown",
   "id": "ce40fe2a",
   "metadata": {},
   "source": [
    "### Heat Map (Scatter Matrix)\n",
    "\n",
    "To show the correlation between two features in our dataset."
   ]
  },
  {
   "cell_type": "code",
   "execution_count": null,
   "id": "7986d3e2",
   "metadata": {},
   "outputs": [],
   "source": [
    "def display_correlation_heatmap(dataframe):\n",
    "    numerical_data = dataframe.select_dtypes(include=np.number)\n",
    "    \n",
    "    sns.heatmap(numerical_data.corr(), cmap='Purples', annot=True)\n",
    "    \n",
    "    plt.title(\"Correlation Heatmap of Numerical Columns\", \n",
    "              fontdict={'fontsize': 11, 'fontweight': 'bold', 'horizontalalignment': 'center'})\n",
    "    \n",
    "    plt.savefig(\"Vivino_Scatter_HeatMap.png\")\n",
    "    plt.show()\n",
    "\n",
    "display_correlation_heatmap(vivino_data)"
   ]
  },
  {
   "cell_type": "markdown",
   "id": "1f197a21",
   "metadata": {},
   "source": [
    "## Data Visualization\n",
    "\n",
    "This is to help us put the data into context as well as understand the data exhaustively. We will first create distribution or groups to help look at some figures."
   ]
  },
  {
   "cell_type": "markdown",
   "id": "0d79f034",
   "metadata": {},
   "source": [
    "### The Distribution by price"
   ]
  },
  {
   "cell_type": "code",
   "execution_count": null,
   "id": "4d951b76",
   "metadata": {},
   "outputs": [],
   "source": [
    "# Group the data by 'Wine Type' and calculate the median price\n",
    "wine_type_median_price = vivino_data.groupby('Wine Type')['Price'].median().reset_index()\n",
    "wine_type_median_price"
   ]
  },
  {
   "cell_type": "code",
   "execution_count": null,
   "id": "fe8fb0fe",
   "metadata": {},
   "outputs": [],
   "source": [
    "# Create a boxplot\n",
    "plt.figure(figsize=(10, 6))\n",
    "sns.boxplot(x='Wine Type', y='Price', data=vivino_data, order=wine_type_median_price.sort_values(by='Price', ascending=False)['Wine Type'])\n",
    "plt.xticks(rotation=45)  # Rotate x-axis labels for better visibility\n",
    "plt.title(\"Boxplot of Median Price by Wine Type\")\n",
    "plt.xlabel(\"Wine Type\")\n",
    "plt.ylabel(\"Median Price\")\n",
    "\n",
    "# Display the plot\n",
    "plt.show()"
   ]
  },
  {
   "cell_type": "markdown",
   "id": "15f57779",
   "metadata": {},
   "source": [
    "### The Distribution by Rating"
   ]
  },
  {
   "cell_type": "code",
   "execution_count": null,
   "id": "689ebda9",
   "metadata": {},
   "outputs": [],
   "source": [
    "# Calculate the median rating for each wine type\n",
    "wine_type_median_rating = vivino_data.groupby('Wine Type')['Rating'].median().reset_index()\n",
    "wine_type_median_rating"
   ]
  },
  {
   "cell_type": "code",
   "execution_count": null,
   "id": "fa59372d",
   "metadata": {},
   "outputs": [],
   "source": [
    "# Create a boxplot\n",
    "plt.figure(figsize=(10, 6))  # Adjust the figure size as needed\n",
    "sns.boxplot(data=vivino_data, x='Wine Type', y='Rating', order=wine_type_median_rating['Wine Type'], palette='Set3')\n",
    "plt.xticks(rotation=45)  # Rotate x-axis labels for better readability\n",
    "plt.title('Boxplot of Wine Type vs. Median Rating')\n",
    "plt.xlabel('Wine Type')\n",
    "plt.ylabel('Median Rating')\n",
    "plt.tight_layout()\n",
    "\n",
    "# Create a legend outside the boxplot\n",
    "legends = []\n",
    "for i, wine_type in enumerate(wine_type_median_rating['Wine Type']):\n",
    "    legends.append(plt.Line2D([0], [0], marker='o', color='w', label=wine_type, \n",
    "                              markersize=10, markerfacecolor=sns.color_palette('Set3')[i]))\n",
    "plt.legend(handles=legends, loc='center left', bbox_to_anchor=(1, 0.5))\n",
    "\n",
    "# Show the plot\n",
    "plt.show()"
   ]
  },
  {
   "cell_type": "markdown",
   "id": "8b853b64",
   "metadata": {},
   "source": [
    "### The Distribution by Number of Ratings"
   ]
  },
  {
   "cell_type": "code",
   "execution_count": null,
   "id": "555d7731",
   "metadata": {},
   "outputs": [],
   "source": [
    "wine_number_rating=vivino_data.groupby('Wine Type', as_index=False).agg({'Number of Ratings':'mean'}).round(2).sort_values(by=['Number of Ratings'], ascending=False).reset_index(drop=True)\n",
    "wine_number_rating"
   ]
  },
  {
   "cell_type": "code",
   "execution_count": null,
   "id": "a7f649ef",
   "metadata": {},
   "outputs": [],
   "source": [
    "# Create a bar chart\n",
    "\n",
    "import plotly.express as px\n",
    "fig = px.bar(\n",
    "    wine_number_rating,\n",
    "    x=\"Wine Type\",\n",
    "    y=\"Number of Ratings\",\n",
    "    color=\"Wine Type\",\n",
    "    text=wine_number_rating[\"Number of Ratings\"],\n",
    "    template='presentation'\n",
    ")\n",
    "\n",
    "# Update the layout\n",
    "fig.update_layout(\n",
    "    title={\n",
    "        'text': 'Average Number of Ratings of Each Wine Type',\n",
    "        'x': 0.5,\n",
    "        'y': 0.95,\n",
    "        'font_size': 15\n",
    "    },\n",
    "    xaxis={'categoryorder': 'total descending'}\n",
    ")\n",
    "\n",
    "# Show the plot in the notebook\n",
    "fig.show(\"notebook\")"
   ]
  },
  {
   "cell_type": "markdown",
   "id": "0d1cbad7",
   "metadata": {},
   "source": [
    "### The Distribution by the most popular wine brands"
   ]
  },
  {
   "cell_type": "code",
   "execution_count": null,
   "id": "8102e871",
   "metadata": {},
   "outputs": [],
   "source": [
    "the_winery=vivino_data.Winery.value_counts().reset_index(name='Popularity')\n",
    "the_winery.rename(columns={'index':'Wine Brands'}, inplace=True)\n",
    "the_winery=the_winery[:20]\n",
    "the_winery"
   ]
  },
  {
   "cell_type": "code",
   "execution_count": null,
   "id": "0b63b439",
   "metadata": {},
   "outputs": [],
   "source": [
    "# Create a bar chart\n",
    "import plotly.express as px\n",
    "fig = px.bar(\n",
    "    the_winery,\n",
    "    y=\"Wine Brands\",\n",
    "    x=\"Popularity\",\n",
    "    color=\"Popularity\",\n",
    "    text=the_winery[\"Popularity\"],\n",
    "    template='plotly_white',\n",
    "    height=600,\n",
    "    width=750\n",
    ")\n",
    "# Customize the appearance of the chart\n",
    "fig.update_traces(\n",
    "    textfont_size=12,\n",
    "    textangle=0,\n",
    "    textposition=\"outside\",\n",
    "    cliponaxis=False\n",
    ")\n",
    "# Update the layout\n",
    "fig.update_layout(\n",
    "    title={\n",
    "        'text': 'The Most 20 Popular Wine Brands',\n",
    "        'x': 0.5,\n",
    "        'y': 0.95,\n",
    "        'font_size': 15\n",
    "    },\n",
    "    yaxis={'categoryorder': 'total ascending'}\n",
    ")\n",
    "# Show the chart in the notebook\n",
    "fig.show(\"notebook\")"
   ]
  },
  {
   "cell_type": "markdown",
   "id": "4730d701",
   "metadata": {},
   "source": [
    "### DIstribution of Countries wines production"
   ]
  },
  {
   "cell_type": "code",
   "execution_count": null,
   "id": "99b480ef",
   "metadata": {},
   "outputs": [],
   "source": [
    "countries_wine_count=vivino_data['Country'].value_counts().reset_index(name='values_count')\n",
    "countries_wine_count.rename(columns={'index':'Country'}, inplace=True)\n",
    "\n",
    "countries_wine_count['Country']=countries_wine_count['Country'].apply(lambda x: x.strip())\n",
    "\n",
    "countries_wine_count.rename(columns={'index':'Country'},inplace=True)\n",
    "\n",
    "countries_wine_count.insert(1,'Full_Name',countries_wine_count['Country'])\n",
    "\n",
    "countries_wine_count['Full_Name']=countries_wine_count['Full_Name'].str.replace('United States','United States of America')"
   ]
  },
  {
   "cell_type": "code",
   "execution_count": null,
   "id": "a6320592",
   "metadata": {},
   "outputs": [],
   "source": [
    "# Loading the countries.geojson file \n",
    "import json"
   ]
  },
  {
   "cell_type": "code",
   "execution_count": null,
   "id": "f086c0c8",
   "metadata": {},
   "outputs": [],
   "source": [
    "file_path = \"countries.geojson\"\n",
    "\n",
    "# Load the geojson file\n",
    "world_map = json.load(open(file_path, \"r\"))"
   ]
  },
  {
   "cell_type": "code",
   "execution_count": null,
   "id": "b675eb49",
   "metadata": {},
   "outputs": [],
   "source": [
    "countries_iso={}\n",
    "country_iso_map={}\n",
    "world_map['features'][0]['properties']['ADMIN']\n",
    "\n",
    "\n",
    "for feature in world_map['features']:\n",
    "    feature['iso']=feature['properties']['ISO_A3']\n",
    "    countries_iso[feature['properties']['ADMIN']]=feature['iso']\n",
    "       \n",
    "country_names=list(countries_wine_count['Full_Name'])\n",
    "for country in country_names:\n",
    "    for key in countries_iso.keys():\n",
    "        if country == key:\n",
    "            country_iso_map[country]=countries_iso[country]"
   ]
  },
  {
   "cell_type": "code",
   "execution_count": null,
   "id": "b16d682c",
   "metadata": {},
   "outputs": [],
   "source": [
    "countries_wine_count['iso'] = countries_wine_count['Full_Name'].apply(lambda x: country_iso_map.get(x, 'Unknown'))\n",
    "countries_wine_count"
   ]
  },
  {
   "cell_type": "code",
   "execution_count": null,
   "id": "9fc55108",
   "metadata": {
    "scrolled": true
   },
   "outputs": [],
   "source": [
    "# fig = px.choropleth(\n",
    "#     countries_wine_count,\n",
    "#     locations='iso',\n",
    "#     locationmode='ISO-3',\n",
    "#     color='values_count',\n",
    "#     template='presentation',\n",
    "#     color_discrete_sequence=px.colors.sequential.Viridis,\n",
    "#     hover_name='iso',\n",
    "#     geojson=world_map,\n",
    "#     basemap_visible=True,\n",
    "#     title =\"Countries that Produce the Most Wine\",\n",
    "\n",
    "# )\n",
    "# fig.update_traces(\n",
    "#     text=countries_wine_count['iso'],\n",
    "#     hovertemplate='%{hovertext}<br>Wine Production: %{z}',\n",
    "#     customdata=countries_wine_count['values_count']\n",
    "# )\n",
    "# fig.savefig(\"countries DIstribution\") "
   ]
  },
  {
   "cell_type": "code",
   "execution_count": null,
   "id": "59c7f6c5",
   "metadata": {},
   "outputs": [],
   "source": [
    "vivino_data.head(10)"
   ]
  },
  {
   "cell_type": "markdown",
   "id": "b8c842a3",
   "metadata": {},
   "source": [
    "## Machine Learning"
   ]
  },
  {
   "cell_type": "markdown",
   "id": "2692a58a",
   "metadata": {},
   "source": [
    "### Building a Recommendation System"
   ]
  },
  {
   "cell_type": "code",
   "execution_count": null,
   "id": "f27a0b41",
   "metadata": {},
   "outputs": [],
   "source": [
    "from scipy.sparse import csr_matrix"
   ]
  },
  {
   "cell_type": "code",
   "execution_count": null,
   "id": "ecb1ddbd",
   "metadata": {},
   "outputs": [],
   "source": [
    "class WineRecommender:\n",
    "    \n",
    "    def __init__(self, dataset):\n",
    "        self.dataset = dataset\n",
    "        self.columns_title = [\"Rating\", \"Number of Ratings\", \"Price\"]\n",
    "        self.pivot_var = [\"Rating\", \"Number of Ratings\", \"Price\"]\n",
    "    \n",
    "    def get_pivot(self, column_name=\"Rating\"):\n",
    "        \"\"\"\n",
    "        Args:\n",
    "        column_name: The name of the column you want to pivot.\n",
    "                     column_name ={\"Rating\",\"Number of Ratings\",\"Price\"}, default is \"Rating\"\n",
    "                \n",
    "        Returns:\n",
    "        A pivoted table (dataframe)\n",
    "        \"\"\"\n",
    "        var_dict = {}\n",
    "        for i in range(3):\n",
    "            var_dict[self.pivot_var[i]] = pd.pivot_table(vivino_data, index=['Winery', 'Name'], values=[self.columns_title[i]], columns='Wine Type')\n",
    "            var_dict[self.pivot_var[i]].columns = ['Dessert', 'Fortified', 'Red', 'Rose', 'Sparkling', 'White']\n",
    "            var_dict[self.pivot_var[i]] = var_dict[self.pivot_var[i]].fillna(0)\n",
    "        \n",
    "        if column_name == \"Number of Ratings\":\n",
    "            return var_dict[\"Number of Ratings\"]\n",
    "        elif column_name == \"Price\":\n",
    "            return var_dict[\"Price\"]\n",
    "        else:\n",
    "            return var_dict[\"Rating\"]\n",
    "\n",
    "    def get_indices(self, suggestions, pivot_table):\n",
    "        idx = 0\n",
    "        sim = []\n",
    "        wineries = []\n",
    "        wine_names = []\n",
    "        for i in suggestions[0]:\n",
    "            sim.append(pivot_table.index[i])\n",
    "            wineries.append(sim[idx][0])\n",
    "            wine_names.append(sim[idx][1])\n",
    "            idx += 1\n",
    "\n",
    "        indices = []\n",
    "        for index in range(len(wine_names)):\n",
    "            ind = np.where((vivino_data['Winery'] == wineries[index]) & (vivino_data['Name'] == wine_names[index]))\n",
    "            indices.append(ind[0][0])\n",
    "        \n",
    "        return indices\n",
    "\n",
    "    def recommend(self, winery=None, name=None, pos=None, recommend_by=\"Rating\", method=\"KNeighbors\", algorithm=\"brute\", n_neighbors=11, sim_elem=11):\n",
    "        \"\"\"\n",
    "        Args:\n",
    "        winery: The name of the winery, if method = \"Similarity\"\n",
    "        name: The name of the wine, if method = \"Similarity\"\n",
    "        pos: The index position of the wine, if method= \"KNeighbors\"\n",
    "        recommend_by: The method used for recommendation. must be a column in the dataframe.\n",
    "        method: The algorithm used for recommendation. options={\"KNeighbors\",\"Similarity\"}\n",
    "        algorithm: The algorithm used in the recommendation method. options={\"auto\",\"ball_tree\",\"brute\"}. default is \"brute\"\n",
    "        n_neighbors: The number of neighbors to use in the KNeighbors algorithm. default 10.\n",
    "        sim_elem: The number of similar wines to return in the Similarity algorithm. default 10.\n",
    "\n",
    "        Returns:\n",
    "        A dataframe of recommended wines\n",
    "        \"\"\"\n",
    "\n",
    "        if method == \"KNeighbors\":\n",
    "            pivot_table = self.get_pivot(column_name=recommend_by)  # Get the pivot_table of the dataframe\n",
    "            pivot_table_sparse = csr_matrix(pivot_table)  # Convert the dense matrix to a sparse matrix\n",
    "            rec_model = NearestNeighbors(algorithm=algorithm)\n",
    "            rec_model.fit(pivot_table_sparse)\n",
    "\n",
    "            if pos is not None and pos < len(pivot_table):\n",
    "                distance, sugg = rec_model.kneighbors(pivot_table.iloc[pos, :].values.reshape(1, -1), n_neighbors=n_neighbors)\n",
    "                indices = self.get_indices(sugg, pivot_table)\n",
    "\n",
    "                if indices:\n",
    "                    if indices[0] < len(self.dataset):\n",
    "                        recommended_wine = self.dataset.loc[indices[0]]\n",
    "                        print(f\"Showing Recommendations for \\n\")\n",
    "                        print(recommended_wine)\n",
    "                        return recommended_wine\n",
    "                    else:\n",
    "                        print(\"No valid recommendation found.\")\n",
    "                else:\n",
    "                    print(\"No valid recommendation found.\")\n",
    "            else:\n",
    "                print(\"Invalid position provided for recommendation.\")\n",
    "\n",
    "        \n",
    "        if method == \"Similarity\":\n",
    "            df = vivino_data.copy()\n",
    "            scaler = StandardScaler()\n",
    "            features = scaler.fit_transform(df[self.columns_title])\n",
    "            similarity = cosine_similarity(features)\n",
    "            \n",
    "            if winery is not None and name is not None:\n",
    "                index = df[(df['Winery'].str.contains(winery)) & (df['Name'].str.contains(name))].index\n",
    "                if len(index) > 0:\n",
    "                    index = index[0]\n",
    "                    \n",
    "                    print(\"Showing Recommendations for \\n\")\n",
    "                    print(vivino_data.loc[index])\n",
    "                    \n",
    "                    wines_list = sorted(list(enumerate(similarity[index])), reverse=True, key=lambda x: x[1])[1:sim_elem]\n",
    "                    \n",
    "                    indexes = []\n",
    "                    for wine in wines_list:\n",
    "                        indexes.append(wine[0])\n",
    "                    \n",
    "                    return vivino_data.loc[indexes]\n",
    "                else:\n",
    "                    print(\"Winery and/or wine name not found in the dataset.\")"
   ]
  },
  {
   "cell_type": "markdown",
   "id": "d1db4987",
   "metadata": {},
   "source": [
    "## Model Testing"
   ]
  },
  {
   "cell_type": "code",
   "execution_count": null,
   "id": "76057ff2",
   "metadata": {},
   "outputs": [],
   "source": [
    "# initializing the class\n",
    "\n",
    "wr=WineRecommender(vivino_data)"
   ]
  },
  {
   "cell_type": "markdown",
   "id": "8716ab88",
   "metadata": {},
   "source": [
    "### Testing the \"KNeighbors\" algorithm"
   ]
  },
  {
   "cell_type": "code",
   "execution_count": null,
   "id": "780e0a3f",
   "metadata": {},
   "outputs": [],
   "source": [
    "KNeighbors=wr.recommend(pos=500, recommend_by=\"price\", method=\"KNeighbors\")\n",
    "KNeighbors"
   ]
  },
  {
   "cell_type": "markdown",
   "id": "3b7db3f9",
   "metadata": {},
   "source": [
    "### Testing the \"Similarity\" algorithm"
   ]
  },
  {
   "cell_type": "code",
   "execution_count": null,
   "id": "f82fc117",
   "metadata": {},
   "outputs": [],
   "source": [
    "similarity_algo = wr.recommend(winery = \"La Ferme Rouge\" ,name=\"Le Gris 2021\", method=\"Similarity\")\n",
    "similarity_algo"
   ]
  },
  {
   "cell_type": "code",
   "execution_count": null,
   "id": "44314e62",
   "metadata": {},
   "outputs": [],
   "source": []
  }
 ],
 "metadata": {
  "kernelspec": {
   "display_name": "Python 3",
   "language": "python",
   "name": "python3"
  },
  "language_info": {
   "codemirror_mode": {
    "name": "ipython",
    "version": 3
   },
   "file_extension": ".py",
   "mimetype": "text/x-python",
   "name": "python",
   "nbconvert_exporter": "python",
   "pygments_lexer": "ipython3",
   "version": "3.6.7"
  }
 },
 "nbformat": 4,
 "nbformat_minor": 5
}
